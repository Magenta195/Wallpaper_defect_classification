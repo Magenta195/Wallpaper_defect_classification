{
 "cells": [
  {
   "cell_type": "code",
   "execution_count": 1,
   "metadata": {},
   "outputs": [
    {
     "name": "stdout",
     "output_type": "stream",
     "text": [
      "224\n",
      "100\n"
     ]
    }
   ],
   "source": [
    "from utils import CONFIG, config_init\n",
    "\n",
    "\n",
    "print(CONFIG.IMG_SIZE)\n",
    "\n",
    "config_dict = {\n",
    "    'IMG_SIZE' : 100\n",
    "}\n",
    "\n",
    "config_init(config_dict)\n",
    "\n",
    "print(CONFIG.IMG_SIZE)\n"
   ]
  },
  {
   "cell_type": "code",
   "execution_count": 1,
   "metadata": {},
   "outputs": [
    {
     "name": "stdout",
     "output_type": "stream",
     "text": [
      "detected unknown model name...\n",
      "List of models can be used currently\n",
      "--------------\n",
      "[001] effinet\n"
     ]
    }
   ],
   "source": [
    "from models import get_torch_model\n",
    "\n",
    "get_torch_model(model_name = 'sedn', num_classes = 16)\n"
   ]
  }
 ],
 "metadata": {
  "kernelspec": {
   "display_name": "KDT",
   "language": "python",
   "name": "python3"
  },
  "language_info": {
   "codemirror_mode": {
    "name": "ipython",
    "version": 3
   },
   "file_extension": ".py",
   "mimetype": "text/x-python",
   "name": "python",
   "nbconvert_exporter": "python",
   "pygments_lexer": "ipython3",
   "version": "3.8.0"
  },
  "orig_nbformat": 4
 },
 "nbformat": 4,
 "nbformat_minor": 2
}
