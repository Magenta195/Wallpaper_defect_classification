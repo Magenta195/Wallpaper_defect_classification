{
 "cells": [
  {
   "attachments": {},
   "cell_type": "markdown",
   "metadata": {},
   "source": [
    "# test code\n",
    "in google colab"
   ]
  },
  {
   "cell_type": "code",
   "execution_count": null,
   "metadata": {
    "vscode": {
     "languageId": "plaintext"
    }
   },
   "outputs": [],
   "source": [
    "# 변수 선언\n",
    "\n",
    "!git clone -b using_colab --single-branch https://github.com/Magenta195/Wallpaper_defect_classification.git\n",
    "\n",
    "# 구글 코랩에서 사용할 경우\n",
    "!pip install /content/Wallpaper_defect_classification\n",
    "\n",
    "# 로컬에서 사용할 경우\n",
    "!pip install -e /content/Wallpaper_defect_classification"
   ]
  },
  {
   "cell_type": "code",
   "execution_count": null,
   "metadata": {
    "vscode": {
     "languageId": "plaintext"
    }
   },
   "outputs": [],
   "source": [
    "from google.colab import drive\n",
    "drive.mount('/content/drive')"
   ]
  },
  {
   "cell_type": "code",
   "execution_count": null,
   "metadata": {
    "vscode": {
     "languageId": "plaintext"
    }
   },
   "outputs": [],
   "source": [
    "import torch \n",
    "from PIL import ImageFile\n",
    "from Wallpaper_defect_classification.utils import CONFIG, config_init, set_seed\n",
    "\n",
    "\n",
    "ImageFile.LOAD_TRUNCATED_IMAGES = True\n",
    "\n",
    "config_dict = {\n",
    "    'IMG_SIZE' : 224,\n",
    "    'DATA_PATH' : '/content/drive/MyDrive/open',\n",
    "    'SUBMIT_PATH' : '/content/drive/MyDrive/open/sample_submission.csv',\n",
    "    'OUTPUT_PATH' : './submission_ensemble.csv',\n",
    "    'LEARNING_RATE' : 2e-3,\n",
    "    'EPOCHS' : 100,\n",
    "    'BATCH_SIZE': 8,\n",
    "    'PATIENCE' : 10,\n",
    "    'LOSS': 'focalloss',\n",
    "    'OPTIMIZER': 'Adamax',\n",
    "    'SCHEDULER': 'exponential',\n",
    "    'SCHEDULER_ARGS': {\n",
    "        'gamma': 0.8\n",
    "    }\n",
    "}\n",
    "\n",
    "config_init(config_dict)\n",
    "cfg = CONFIG\n",
    "\n",
    "set_seed(12341)\n",
    "\n",
    "device = torch.device( 'cuda' if torch.cuda.is_available() else 'cpu' )"
   ]
  },
  {
   "cell_type": "code",
   "execution_count": null,
   "metadata": {
    "vscode": {
     "languageId": "plaintext"
    }
   },
   "outputs": [],
   "source": [
    "from Wallpaper_defect_classification.data import get_all_dataloader\n",
    "\n",
    "\n",
    "dataloaders = get_all_dataloader(cfg = cfg, val_size = 0.1, image_folder=True)"
   ]
  },
  {
   "cell_type": "code",
   "execution_count": null,
   "metadata": {
    "vscode": {
     "languageId": "plaintext"
    }
   },
   "outputs": [],
   "source": [
    "from Wallpaper_defect_classification.models import get_torch_model\n",
    "\n",
    "\n",
    "model = get_torch_model(model_name='effinet', model_num='b1')"
   ]
  },
  {
   "cell_type": "code",
   "execution_count": null,
   "metadata": {
    "vscode": {
     "languageId": "plaintext"
    }
   },
   "outputs": [],
   "source": [
    "from Wallpaper_defect_classification.trainer import TRAINER\n",
    "\n",
    "\n",
    "trainer = TRAINER(\n",
    "    model=model,\n",
    "    dataloaders=dataloaders,\n",
    "    device=device,\n",
    "    cfg=cfg\n",
    ")\n",
    "\n",
    "trainer.full_train()"
   ]
  },
  {
   "cell_type": "code",
   "execution_count": null,
   "metadata": {
    "vscode": {
     "languageId": "plaintext"
    }
   },
   "outputs": [],
   "source": [
    "ensemble.make_predict_file()"
   ]
  },
  {
   "cell_type": "code",
   "execution_count": null,
   "metadata": {
    "vscode": {
     "languageId": "plaintext"
    }
   },
   "outputs": [],
   "source": [
    "from google.colab import files\n",
    "\n",
    "files.download(cfg.OUTPUT_PATH)"
   ]
  }
 ],
 "metadata": {
  "kernelspec": {
   "display_name": "KDT",
   "language": "python",
   "name": "python3"
  },
  "language_info": {
   "codemirror_mode": {
    "name": "ipython",
    "version": 3
   },
   "file_extension": ".py",
   "mimetype": "text/x-python",
   "name": "python",
   "nbconvert_exporter": "python",
   "pygments_lexer": "ipython3",
   "version": "3.8.0"
  },
  "orig_nbformat": 4
 },
 "nbformat": 4,
 "nbformat_minor": 2
}
