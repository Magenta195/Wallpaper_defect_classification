{
  "cells": [
    {
      "attachments": {},
      "cell_type": "markdown",
      "metadata": {
        "id": "NUjs9Y-HevFn"
      },
      "source": [
        "# GOOGLE COLAB 테스트 코드"
      ]
    },
    {
      "cell_type": "code",
      "execution_count": null,
      "metadata": {
        "id": "HeRLhnsln0IG"
      },
      "outputs": [],
      "source": [
        "!rm -rf /content/Wallpaper_defect_classification"
      ]
    },
    {
      "cell_type": "code",
      "execution_count": null,
      "metadata": {
        "colab": {
          "base_uri": "https://localhost:8080/"
        },
        "id": "hwyfXibMd4EU",
        "outputId": "7e830f55-3e73-4db1-ab60-f435f563fab2"
      },
      "outputs": [
        {
          "name": "stdout",
          "output_type": "stream",
          "text": [
            "Cloning into 'Wallpaper_defect_classification'...\n",
            "remote: Enumerating objects: 491, done.\u001b[K\n",
            "remote: Counting objects: 100% (107/107), done.\u001b[K\n",
            "remote: Compressing objects: 100% (25/25), done.\u001b[K\n",
            "remote: Total 491 (delta 95), reused 82 (delta 82), pack-reused 384\u001b[K\n",
            "Receiving objects: 100% (491/491), 66.10 KiB | 11.02 MiB/s, done.\n",
            "Resolving deltas: 100% (280/280), done.\n"
          ]
        }
      ],
      "source": [
        "!git clone -b using_colab --single-branch https://github.com/Magenta195/Wallpaper_defect_classification.git"
      ]
    },
    {
      "cell_type": "code",
      "execution_count": null,
      "metadata": {
        "colab": {
          "base_uri": "https://localhost:8080/"
        },
        "id": "CYugiIAIe0AA",
        "outputId": "b4d976d6-b307-4c49-e7a3-5fdde43de5eb"
      },
      "outputs": [
        {
          "name": "stdout",
          "output_type": "stream",
          "text": [
            "Mounted at /content/drive\n"
          ]
        }
      ],
      "source": [
        "from google.colab import drive\n",
        "drive.mount('/content/drive')"
      ]
    },
    {
      "cell_type": "code",
      "execution_count": null,
      "metadata": {
        "colab": {
          "base_uri": "https://localhost:8080/"
        },
        "id": "58H33znSVSPA",
        "outputId": "19562e19-5462-4646-c4a7-ea806c3232b6"
      },
      "outputs": [
        {
          "name": "stdout",
          "output_type": "stream",
          "text": [
            "Looking in indexes: https://pypi.org/simple, https://us-python.pkg.dev/colab-wheels/public/simple/\n",
            "Processing ./Wallpaper_defect_classification\n",
            "  Preparing metadata (setup.py) ... \u001b[?25l\u001b[?25hdone\n",
            "Collecting torchmetrics (from Wallpaper-defect-classification==0.1)\n",
            "  Downloading torchmetrics-0.11.4-py3-none-any.whl (519 kB)\n",
            "\u001b[2K     \u001b[90m━━━━━━━━━━━━━━━━━━━━━━━━━━━━━━━━━━━━━━\u001b[0m \u001b[32m519.2/519.2 kB\u001b[0m \u001b[31m32.6 MB/s\u001b[0m eta \u001b[36m0:00:00\u001b[0m\n",
            "\u001b[?25hRequirement already satisfied: numpy>=1.17.2 in /usr/local/lib/python3.10/dist-packages (from torchmetrics->Wallpaper-defect-classification==0.1) (1.22.4)\n",
            "Requirement already satisfied: torch>=1.8.1 in /usr/local/lib/python3.10/dist-packages (from torchmetrics->Wallpaper-defect-classification==0.1) (2.0.1+cu118)\n",
            "Requirement already satisfied: packaging in /usr/local/lib/python3.10/dist-packages (from torchmetrics->Wallpaper-defect-classification==0.1) (23.1)\n",
            "Requirement already satisfied: filelock in /usr/local/lib/python3.10/dist-packages (from torch>=1.8.1->torchmetrics->Wallpaper-defect-classification==0.1) (3.12.0)\n",
            "Requirement already satisfied: typing-extensions in /usr/local/lib/python3.10/dist-packages (from torch>=1.8.1->torchmetrics->Wallpaper-defect-classification==0.1) (4.5.0)\n",
            "Requirement already satisfied: sympy in /usr/local/lib/python3.10/dist-packages (from torch>=1.8.1->torchmetrics->Wallpaper-defect-classification==0.1) (1.11.1)\n",
            "Requirement already satisfied: networkx in /usr/local/lib/python3.10/dist-packages (from torch>=1.8.1->torchmetrics->Wallpaper-defect-classification==0.1) (3.1)\n",
            "Requirement already satisfied: jinja2 in /usr/local/lib/python3.10/dist-packages (from torch>=1.8.1->torchmetrics->Wallpaper-defect-classification==0.1) (3.1.2)\n",
            "Requirement already satisfied: triton==2.0.0 in /usr/local/lib/python3.10/dist-packages (from torch>=1.8.1->torchmetrics->Wallpaper-defect-classification==0.1) (2.0.0)\n",
            "Requirement already satisfied: cmake in /usr/local/lib/python3.10/dist-packages (from triton==2.0.0->torch>=1.8.1->torchmetrics->Wallpaper-defect-classification==0.1) (3.25.2)\n",
            "Requirement already satisfied: lit in /usr/local/lib/python3.10/dist-packages (from triton==2.0.0->torch>=1.8.1->torchmetrics->Wallpaper-defect-classification==0.1) (16.0.5)\n",
            "Requirement already satisfied: MarkupSafe>=2.0 in /usr/local/lib/python3.10/dist-packages (from jinja2->torch>=1.8.1->torchmetrics->Wallpaper-defect-classification==0.1) (2.1.2)\n",
            "Requirement already satisfied: mpmath>=0.19 in /usr/local/lib/python3.10/dist-packages (from sympy->torch>=1.8.1->torchmetrics->Wallpaper-defect-classification==0.1) (1.3.0)\n",
            "Building wheels for collected packages: Wallpaper-defect-classification\n",
            "  Building wheel for Wallpaper-defect-classification (setup.py) ... \u001b[?25l\u001b[?25hdone\n",
            "  Created wheel for Wallpaper-defect-classification: filename=Wallpaper_defect_classification-0.1-py3-none-any.whl size=22302 sha256=0b3bc9f93b364a1cb9c77f9b68970b5753928675178f0c9a318fe0b14074aa90\n",
            "  Stored in directory: /tmp/pip-ephem-wheel-cache-edfr8szz/wheels/20/e7/ed/ff497a4da5b62dea25ef6a62f3da682367c728ea1bab64b51c\n",
            "Successfully built Wallpaper-defect-classification\n",
            "Installing collected packages: torchmetrics, Wallpaper-defect-classification\n",
            "Successfully installed Wallpaper-defect-classification-0.1 torchmetrics-0.11.4\n"
          ]
        }
      ],
      "source": [
        "!pip install /content/Wallpaper_defect_classification"
      ]
    },
    {
      "cell_type": "code",
      "execution_count": null,
      "metadata": {
        "id": "g1xzdvjdh1EF"
      },
      "outputs": [],
      "source": [
        "!rm -rf /content/open"
      ]
    },
    {
      "cell_type": "code",
      "execution_count": null,
      "metadata": {
        "id": "A_UvRL-3NrIH"
      },
      "outputs": [],
      "source": [
        "!cp -r /content/drive/MyDrive/open /content/"
      ]
    },
    {
      "cell_type": "code",
      "execution_count": null,
      "metadata": {
        "colab": {
          "base_uri": "https://localhost:8080/"
        },
        "id": "dRdXmQKghAnV",
        "outputId": "c843b332-9010-4efc-8a25-21963f27340d"
      },
      "outputs": [
        {
          "name": "stdout",
          "output_type": "stream",
          "text": [
            "Usage: add_augmented_data.py [options]\n",
            "\n",
            "Options:\n",
            "  -h, --help            show this help message and exit\n",
            "  -p PATH, --path=PATH  Root path having some directories to augmentate\n",
            "  -n NUMFILES, --numfiles=NUMFILES\n",
            "                        select directories the number of each less than the\n",
            "                        value\n",
            "  -a, --all             apply all augmentation (crop & noise)\n",
            "\n",
            "  Random Crop Options:\n",
            "    use these option at random crop function\n",
            "\n",
            "    -c, --crop          replicates the random crop process\n",
            "    -r CROP_RATE, --crop_rate=CROP_RATE\n",
            "                        crop size: input image width * 0.7, height * 0.7\n",
            "\n",
            "  Noise Options:\n",
            "    use these option at noise function\n",
            "\n",
            "    -g, --noise         replicates the image noising process\n",
            "    -i NOISE_INTENSITY, --noise_intensity=NOISE_INTENSITY\n",
            "                        use setting noise threshold: 1 - intensity\n"
          ]
        }
      ],
      "source": [
        "! python /content/Wallpaper_defect_classification/data/add_augmented_data.py --help"
      ]
    },
    {
      "cell_type": "code",
      "execution_count": null,
      "metadata": {
        "colab": {
          "base_uri": "https://localhost:8080/"
        },
        "id": "3CP-pXbehKNa",
        "outputId": "1addf05d-8262-4375-b22c-31ac86399f43"
      },
      "outputs": [
        {
          "name": "stdout",
          "output_type": "stream",
          "text": [
            "{'path': '/content/open/train', 'numfiles': 100, 'all': True, 'crop': False, 'crop_rate': 0.7, 'noise': False, 'noise_intensity': 0.2}\n"
          ]
        }
      ],
      "source": [
        "! python /content/Wallpaper_defect_classification/data/add_augmented_data.py -p /content/open/train -n 100 -a"
      ]
    },
    {
      "cell_type": "code",
      "execution_count": null,
      "metadata": {
        "id": "PP8vEbujfl2t"
      },
      "outputs": [],
      "source": [
        "import torch \n",
        "from PIL import ImageFile\n",
        "from Wallpaper_defect_classification.utils import CONFIG, config_init, set_seed\n",
        "\n",
        "\n",
        "ImageFile.LOAD_TRUNCATED_IMAGES = True\n",
        "\n",
        "config_dict = {\n",
        "    'IMG_SIZE' : 224,\n",
        "    'DATA_PATH' : '/content/open',\n",
        "    'SUBMIT_PATH' : '/content/open/sample_submission.csv',\n",
        "    'OUTPUT_PATH' : './submission.csv',\n",
        "    'MODEL_SAVE_PATH' : '/content/drive/MyDrive/Best_model',\n",
        "    'LEARNING_RATE' : 7e-4,\n",
        "    'EPOCHS' : 100,\n",
        "    'BATCH_SIZE': 8,\n",
        "    'PATIENCE' : 15,\n",
        "    'LOSS': 'celoss',\n",
        "    'LOSS_ARGS' : {\n",
        "        'label_smooth' : True,\n",
        "        'smooth_alpha' : 0.007\n",
        "    },\n",
        "    'OPTIMIZER': 'Adamax',\n",
        "    'SCHEDULER': 'exponential',\n",
        "    'SCHEDULER_ARGS': {\n",
        "        'gamma': 0.8\n",
        "    },\n",
        "    'SEED': 7777\n",
        "}\n",
        "\n",
        "config_init(config_dict)\n",
        "cfg = CONFIG\n",
        "\n",
        "set_seed(cfg)\n",
        "\n",
        "device = torch.device( 'cuda' if torch.cuda.is_available() else 'cpu' )"
      ]
    },
    {
      "cell_type": "code",
      "execution_count": null,
      "metadata": {
        "colab": {
          "base_uri": "https://localhost:8080/"
        },
        "id": "-ruJ6oWZjKKt",
        "outputId": "fefebab5-2fdf-490a-d81b-8bd337736c3f"
      },
      "outputs": [
        {
          "name": "stdout",
          "output_type": "stream",
          "text": [
            "/content/open\n"
          ]
        }
      ],
      "source": [
        "!mkdir /content/open/temp\n",
        "!mv /content/open/test /content/open/temp\n",
        "%cd ./open\n",
        "!mv temp test"
      ]
    },
    {
      "cell_type": "code",
      "execution_count": null,
      "metadata": {
        "id": "en1T9yh_wFYM"
      },
      "outputs": [],
      "source": [
        "from Wallpaper_defect_classification.data import get_all_dataloader\n",
        "\n",
        "dataloaders = get_all_dataloader(cfg=cfg, val_size=0.1, image_folder=True)"
      ]
    },
    {
      "cell_type": "code",
      "execution_count": null,
      "metadata": {
        "id": "479aEY9Jj1ZY"
      },
      "outputs": [],
      "source": [
        "from Wallpaper_defect_classification.models import get_torch_model\n",
        "from Wallpaper_defect_classification.trainer import ENSEMBLE"
      ]
    },
    {
      "cell_type": "code",
      "execution_count": null,
      "metadata": {
        "colab": {
          "base_uri": "https://localhost:8080/"
        },
        "id": "94W0R7gNf74K",
        "outputId": "a3839069-1294-4db6-a370-a9ad4774fa32"
      },
      "outputs": [
        {
          "name": "stdout",
          "output_type": "stream",
          "text": [
            "model_num v2_m\n",
            "model_num v2_m\n",
            "model_num v2_m\n",
            "[Model 001 training start]\n"
          ]
        },
        {
          "name": "stderr",
          "output_type": "stream",
          "text": [
            "100%|██████████| 471/471 [02:06<00:00,  3.74it/s]\n",
            "100%|██████████| 53/53 [00:07<00:00,  7.03it/s]\n"
          ]
        },
        {
          "name": "stdout",
          "output_type": "stream",
          "text": [
            "detected new best model, model save....\n",
            " [ epoch : 001 ]  train_loss : 1.859, train_score : 0.410, val_loss : 1.245, val_score : 0.638, max_val_score : 0.638 \n"
          ]
        },
        {
          "name": "stderr",
          "output_type": "stream",
          "text": [
            "100%|██████████| 471/471 [02:08<00:00,  3.68it/s]\n",
            "100%|██████████| 53/53 [00:09<00:00,  5.78it/s]\n"
          ]
        },
        {
          "name": "stdout",
          "output_type": "stream",
          "text": [
            "detected new best model, model save....\n",
            " [ epoch : 002 ]  train_loss : 1.342, train_score : 0.591, val_loss : 0.948, val_score : 0.735, max_val_score : 0.735 \n"
          ]
        },
        {
          "name": "stderr",
          "output_type": "stream",
          "text": [
            "100%|██████████| 471/471 [02:08<00:00,  3.66it/s]\n",
            "100%|██████████| 53/53 [00:07<00:00,  7.42it/s]\n"
          ]
        },
        {
          "name": "stdout",
          "output_type": "stream",
          "text": [
            "detected new best model, model save....\n",
            " [ epoch : 003 ]  train_loss : 1.060, train_score : 0.690, val_loss : 0.721, val_score : 0.795, max_val_score : 0.795 \n"
          ]
        },
        {
          "name": "stderr",
          "output_type": "stream",
          "text": [
            "100%|██████████| 471/471 [02:07<00:00,  3.68it/s]\n",
            "100%|██████████| 53/53 [00:09<00:00,  5.78it/s]\n"
          ]
        },
        {
          "name": "stdout",
          "output_type": "stream",
          "text": [
            "detected new best model, model save....\n",
            " [ epoch : 004 ]  train_loss : 0.894, train_score : 0.744, val_loss : 0.688, val_score : 0.798, max_val_score : 0.798 \n"
          ]
        },
        {
          "name": "stderr",
          "output_type": "stream",
          "text": [
            "100%|██████████| 471/471 [02:05<00:00,  3.74it/s]\n",
            "100%|██████████| 53/53 [00:07<00:00,  6.86it/s]\n"
          ]
        },
        {
          "name": "stdout",
          "output_type": "stream",
          "text": [
            "detected new best model, model save....\n",
            " [ epoch : 005 ]  train_loss : 0.818, train_score : 0.780, val_loss : 0.622, val_score : 0.842, max_val_score : 0.842 \n"
          ]
        },
        {
          "name": "stderr",
          "output_type": "stream",
          "text": [
            "100%|██████████| 471/471 [02:07<00:00,  3.69it/s]\n",
            "100%|██████████| 53/53 [00:08<00:00,  5.93it/s]\n"
          ]
        },
        {
          "name": "stdout",
          "output_type": "stream",
          "text": [
            "detected new best model, model save....\n",
            " [ epoch : 006 ]  train_loss : 0.733, train_score : 0.798, val_loss : 0.548, val_score : 0.862, max_val_score : 0.862 \n"
          ]
        },
        {
          "name": "stderr",
          "output_type": "stream",
          "text": [
            "100%|██████████| 471/471 [02:06<00:00,  3.72it/s]\n",
            "100%|██████████| 53/53 [00:07<00:00,  7.00it/s]\n"
          ]
        },
        {
          "name": "stdout",
          "output_type": "stream",
          "text": [
            " [ epoch : 007 ]  train_loss : 0.673, train_score : 0.822, val_loss : 0.546, val_score : 0.853, max_val_score : 0.862 \n"
          ]
        },
        {
          "name": "stderr",
          "output_type": "stream",
          "text": [
            "100%|██████████| 471/471 [02:07<00:00,  3.69it/s]\n",
            "100%|██████████| 53/53 [00:07<00:00,  6.68it/s]\n"
          ]
        },
        {
          "name": "stdout",
          "output_type": "stream",
          "text": [
            " [ epoch : 008 ]  train_loss : 0.676, train_score : 0.823, val_loss : 0.602, val_score : 0.855, max_val_score : 0.862 \n"
          ]
        },
        {
          "name": "stderr",
          "output_type": "stream",
          "text": [
            "100%|██████████| 471/471 [02:06<00:00,  3.71it/s]\n",
            "100%|██████████| 53/53 [00:09<00:00,  5.86it/s]\n"
          ]
        },
        {
          "name": "stdout",
          "output_type": "stream",
          "text": [
            " [ epoch : 009 ]  train_loss : 0.622, train_score : 0.843, val_loss : 0.501, val_score : 0.862, max_val_score : 0.862 \n"
          ]
        },
        {
          "name": "stderr",
          "output_type": "stream",
          "text": [
            "100%|██████████| 471/471 [02:07<00:00,  3.70it/s]\n",
            "100%|██████████| 53/53 [00:07<00:00,  7.53it/s]\n"
          ]
        },
        {
          "name": "stdout",
          "output_type": "stream",
          "text": [
            "detected new best model, model save....\n",
            " [ epoch : 010 ]  train_loss : 0.595, train_score : 0.843, val_loss : 0.539, val_score : 0.875, max_val_score : 0.875 \n"
          ]
        },
        {
          "name": "stderr",
          "output_type": "stream",
          "text": [
            "100%|██████████| 471/471 [02:07<00:00,  3.70it/s]\n",
            "100%|██████████| 53/53 [00:09<00:00,  5.81it/s]\n"
          ]
        },
        {
          "name": "stdout",
          "output_type": "stream",
          "text": [
            " [ epoch : 011 ]  train_loss : 0.568, train_score : 0.839, val_loss : 0.579, val_score : 0.834, max_val_score : 0.875 \n"
          ]
        },
        {
          "name": "stderr",
          "output_type": "stream",
          "text": [
            "100%|██████████| 471/471 [02:06<00:00,  3.71it/s]\n",
            "100%|██████████| 53/53 [00:07<00:00,  7.44it/s]\n"
          ]
        },
        {
          "name": "stdout",
          "output_type": "stream",
          "text": [
            " [ epoch : 012 ]  train_loss : 0.553, train_score : 0.850, val_loss : 0.513, val_score : 0.850, max_val_score : 0.875 \n"
          ]
        },
        {
          "name": "stderr",
          "output_type": "stream",
          "text": [
            "100%|██████████| 471/471 [02:07<00:00,  3.69it/s]\n",
            "100%|██████████| 53/53 [00:09<00:00,  5.85it/s]\n"
          ]
        },
        {
          "name": "stdout",
          "output_type": "stream",
          "text": [
            "detected new best model, model save....\n",
            " [ epoch : 013 ]  train_loss : 0.592, train_score : 0.834, val_loss : 0.528, val_score : 0.875, max_val_score : 0.875 \n"
          ]
        },
        {
          "name": "stderr",
          "output_type": "stream",
          "text": [
            "100%|██████████| 471/471 [02:06<00:00,  3.72it/s]\n",
            "100%|██████████| 53/53 [00:07<00:00,  7.04it/s]\n"
          ]
        },
        {
          "name": "stdout",
          "output_type": "stream",
          "text": [
            " [ epoch : 014 ]  train_loss : 0.531, train_score : 0.867, val_loss : 0.523, val_score : 0.857, max_val_score : 0.875 \n"
          ]
        },
        {
          "name": "stderr",
          "output_type": "stream",
          "text": [
            "100%|██████████| 471/471 [02:07<00:00,  3.70it/s]\n",
            "100%|██████████| 53/53 [00:08<00:00,  5.96it/s]\n"
          ]
        },
        {
          "name": "stdout",
          "output_type": "stream",
          "text": [
            "detected new best model, model save....\n",
            " [ epoch : 015 ]  train_loss : 0.561, train_score : 0.850, val_loss : 0.437, val_score : 0.878, max_val_score : 0.878 \n"
          ]
        },
        {
          "name": "stderr",
          "output_type": "stream",
          "text": [
            "100%|██████████| 471/471 [02:07<00:00,  3.69it/s]\n",
            "100%|██████████| 53/53 [00:07<00:00,  6.95it/s]\n"
          ]
        },
        {
          "name": "stdout",
          "output_type": "stream",
          "text": [
            " [ epoch : 016 ]  train_loss : 0.538, train_score : 0.852, val_loss : 0.601, val_score : 0.853, max_val_score : 0.878 \n"
          ]
        },
        {
          "name": "stderr",
          "output_type": "stream",
          "text": [
            "100%|██████████| 471/471 [02:06<00:00,  3.71it/s]\n",
            "100%|██████████| 53/53 [00:08<00:00,  6.41it/s]\n"
          ]
        },
        {
          "name": "stdout",
          "output_type": "stream",
          "text": [
            " [ epoch : 017 ]  train_loss : 0.551, train_score : 0.868, val_loss : 0.538, val_score : 0.858, max_val_score : 0.878 \n"
          ]
        },
        {
          "name": "stderr",
          "output_type": "stream",
          "text": [
            "100%|██████████| 471/471 [02:07<00:00,  3.71it/s]\n",
            "100%|██████████| 53/53 [00:09<00:00,  5.81it/s]\n"
          ]
        },
        {
          "name": "stdout",
          "output_type": "stream",
          "text": [
            " [ epoch : 018 ]  train_loss : 0.571, train_score : 0.846, val_loss : 0.481, val_score : 0.858, max_val_score : 0.878 \n"
          ]
        },
        {
          "name": "stderr",
          "output_type": "stream",
          "text": [
            "100%|██████████| 471/471 [02:08<00:00,  3.68it/s]\n",
            "100%|██████████| 53/53 [00:07<00:00,  7.01it/s]\n"
          ]
        },
        {
          "name": "stdout",
          "output_type": "stream",
          "text": [
            " [ epoch : 019 ]  train_loss : 0.543, train_score : 0.867, val_loss : 0.517, val_score : 0.863, max_val_score : 0.878 \n"
          ]
        },
        {
          "name": "stderr",
          "output_type": "stream",
          "text": [
            "100%|██████████| 471/471 [02:07<00:00,  3.70it/s]\n",
            "100%|██████████| 53/53 [00:09<00:00,  5.87it/s]\n"
          ]
        },
        {
          "name": "stdout",
          "output_type": "stream",
          "text": [
            " [ epoch : 020 ]  train_loss : 0.544, train_score : 0.857, val_loss : 0.541, val_score : 0.873, max_val_score : 0.878 \n"
          ]
        },
        {
          "name": "stderr",
          "output_type": "stream",
          "text": [
            "100%|██████████| 471/471 [02:07<00:00,  3.70it/s]\n",
            "100%|██████████| 53/53 [00:07<00:00,  7.40it/s]\n"
          ]
        },
        {
          "name": "stdout",
          "output_type": "stream",
          "text": [
            " [ epoch : 021 ]  train_loss : 0.502, train_score : 0.865, val_loss : 0.607, val_score : 0.862, max_val_score : 0.878 \n"
          ]
        },
        {
          "name": "stderr",
          "output_type": "stream",
          "text": [
            "100%|██████████| 471/471 [02:07<00:00,  3.69it/s]\n",
            "100%|██████████| 53/53 [00:09<00:00,  5.85it/s]\n"
          ]
        },
        {
          "name": "stdout",
          "output_type": "stream",
          "text": [
            " [ epoch : 022 ]  train_loss : 0.515, train_score : 0.870, val_loss : 0.527, val_score : 0.871, max_val_score : 0.878 \n"
          ]
        },
        {
          "name": "stderr",
          "output_type": "stream",
          "text": [
            "100%|██████████| 471/471 [02:07<00:00,  3.69it/s]\n",
            "100%|██████████| 53/53 [00:07<00:00,  7.34it/s]\n"
          ]
        },
        {
          "name": "stdout",
          "output_type": "stream",
          "text": [
            " [ epoch : 023 ]  train_loss : 0.507, train_score : 0.863, val_loss : 0.660, val_score : 0.856, max_val_score : 0.878 \n"
          ]
        },
        {
          "name": "stderr",
          "output_type": "stream",
          "text": [
            "100%|██████████| 471/471 [02:07<00:00,  3.69it/s]\n",
            "100%|██████████| 53/53 [00:09<00:00,  5.74it/s]\n"
          ]
        },
        {
          "name": "stdout",
          "output_type": "stream",
          "text": [
            " [ epoch : 024 ]  train_loss : 0.507, train_score : 0.875, val_loss : 0.747, val_score : 0.839, max_val_score : 0.878 \n"
          ]
        },
        {
          "name": "stderr",
          "output_type": "stream",
          "text": [
            "100%|██████████| 471/471 [02:05<00:00,  3.74it/s]\n",
            "100%|██████████| 53/53 [00:08<00:00,  6.36it/s]\n"
          ]
        },
        {
          "name": "stdout",
          "output_type": "stream",
          "text": [
            " [ epoch : 025 ]  train_loss : 0.521, train_score : 0.863, val_loss : 0.733, val_score : 0.864, max_val_score : 0.878 \n"
          ]
        },
        {
          "name": "stderr",
          "output_type": "stream",
          "text": [
            "100%|██████████| 471/471 [02:07<00:00,  3.68it/s]\n",
            "100%|██████████| 53/53 [00:07<00:00,  6.79it/s]\n"
          ]
        },
        {
          "name": "stdout",
          "output_type": "stream",
          "text": [
            " [ epoch : 026 ]  train_loss : 0.496, train_score : 0.861, val_loss : 0.714, val_score : 0.819, max_val_score : 0.878 \n"
          ]
        },
        {
          "name": "stderr",
          "output_type": "stream",
          "text": [
            "100%|██████████| 471/471 [02:06<00:00,  3.71it/s]\n",
            "100%|██████████| 53/53 [00:09<00:00,  5.86it/s]\n"
          ]
        },
        {
          "name": "stdout",
          "output_type": "stream",
          "text": [
            " [ epoch : 027 ]  train_loss : 0.509, train_score : 0.879, val_loss : 0.641, val_score : 0.843, max_val_score : 0.878 \n"
          ]
        },
        {
          "name": "stderr",
          "output_type": "stream",
          "text": [
            "100%|██████████| 471/471 [02:06<00:00,  3.71it/s]\n",
            "100%|██████████| 53/53 [00:07<00:00,  7.51it/s]\n"
          ]
        },
        {
          "name": "stdout",
          "output_type": "stream",
          "text": [
            " [ epoch : 028 ]  train_loss : 0.528, train_score : 0.862, val_loss : 0.644, val_score : 0.861, max_val_score : 0.878 \n"
          ]
        },
        {
          "name": "stderr",
          "output_type": "stream",
          "text": [
            "100%|██████████| 471/471 [02:06<00:00,  3.71it/s]\n",
            "100%|██████████| 53/53 [00:09<00:00,  5.71it/s]\n"
          ]
        },
        {
          "name": "stdout",
          "output_type": "stream",
          "text": [
            " [ epoch : 029 ]  train_loss : 0.554, train_score : 0.851, val_loss : 0.505, val_score : 0.863, max_val_score : 0.878 \n"
          ]
        },
        {
          "name": "stderr",
          "output_type": "stream",
          "text": [
            "100%|██████████| 471/471 [02:07<00:00,  3.70it/s]\n",
            "100%|██████████| 53/53 [00:07<00:00,  7.39it/s]\n"
          ]
        },
        {
          "name": "stdout",
          "output_type": "stream",
          "text": [
            " [ epoch : 030 ]  train_loss : 0.520, train_score : 0.866, val_loss : 0.630, val_score : 0.850, max_val_score : 0.878 \n",
            "[Model 002 training start]\n"
          ]
        },
        {
          "name": "stderr",
          "output_type": "stream",
          "text": [
            "100%|██████████| 471/471 [02:07<00:00,  3.70it/s]\n",
            "100%|██████████| 53/53 [00:08<00:00,  5.91it/s]\n"
          ]
        },
        {
          "name": "stdout",
          "output_type": "stream",
          "text": [
            "detected new best model, model save....\n",
            " [ epoch : 001 ]  train_loss : 1.776, train_score : 0.443, val_loss : 1.126, val_score : 0.668, max_val_score : 0.668 \n"
          ]
        },
        {
          "name": "stderr",
          "output_type": "stream",
          "text": [
            "100%|██████████| 471/471 [02:06<00:00,  3.73it/s]\n",
            "100%|██████████| 53/53 [00:07<00:00,  6.88it/s]\n"
          ]
        },
        {
          "name": "stdout",
          "output_type": "stream",
          "text": [
            "detected new best model, model save....\n",
            " [ epoch : 002 ]  train_loss : 1.305, train_score : 0.603, val_loss : 0.783, val_score : 0.757, max_val_score : 0.757 \n"
          ]
        },
        {
          "name": "stderr",
          "output_type": "stream",
          "text": [
            "100%|██████████| 471/471 [02:06<00:00,  3.71it/s]\n",
            "100%|██████████| 53/53 [00:08<00:00,  6.36it/s]\n"
          ]
        },
        {
          "name": "stdout",
          "output_type": "stream",
          "text": [
            "detected new best model, model save....\n",
            " [ epoch : 003 ]  train_loss : 1.052, train_score : 0.689, val_loss : 0.605, val_score : 0.822, max_val_score : 0.822 \n"
          ]
        },
        {
          "name": "stderr",
          "output_type": "stream",
          "text": [
            "100%|██████████| 471/471 [02:05<00:00,  3.76it/s]\n",
            "100%|██████████| 53/53 [00:08<00:00,  5.91it/s]\n"
          ]
        },
        {
          "name": "stdout",
          "output_type": "stream",
          "text": [
            " [ epoch : 004 ]  train_loss : 0.926, train_score : 0.736, val_loss : 0.649, val_score : 0.808, max_val_score : 0.822 \n"
          ]
        },
        {
          "name": "stderr",
          "output_type": "stream",
          "text": [
            "100%|██████████| 471/471 [02:07<00:00,  3.69it/s]\n",
            "100%|██████████| 53/53 [00:07<00:00,  7.56it/s]\n"
          ]
        },
        {
          "name": "stdout",
          "output_type": "stream",
          "text": [
            "detected new best model, model save....\n",
            " [ epoch : 005 ]  train_loss : 0.800, train_score : 0.771, val_loss : 0.565, val_score : 0.826, max_val_score : 0.826 \n"
          ]
        },
        {
          "name": "stderr",
          "output_type": "stream",
          "text": [
            "100%|██████████| 471/471 [02:07<00:00,  3.70it/s]\n",
            "100%|██████████| 53/53 [00:09<00:00,  5.78it/s]\n"
          ]
        },
        {
          "name": "stdout",
          "output_type": "stream",
          "text": [
            "detected new best model, model save....\n",
            " [ epoch : 006 ]  train_loss : 0.760, train_score : 0.790, val_loss : 0.528, val_score : 0.838, max_val_score : 0.838 \n"
          ]
        },
        {
          "name": "stderr",
          "output_type": "stream",
          "text": [
            "100%|██████████| 471/471 [02:06<00:00,  3.72it/s]\n",
            "100%|██████████| 53/53 [00:06<00:00,  7.64it/s]\n"
          ]
        },
        {
          "name": "stdout",
          "output_type": "stream",
          "text": [
            "detected new best model, model save....\n",
            " [ epoch : 007 ]  train_loss : 0.679, train_score : 0.816, val_loss : 0.482, val_score : 0.868, max_val_score : 0.868 \n"
          ]
        },
        {
          "name": "stderr",
          "output_type": "stream",
          "text": [
            "100%|██████████| 471/471 [02:07<00:00,  3.70it/s]\n",
            "100%|██████████| 53/53 [00:08<00:00,  5.90it/s]\n"
          ]
        },
        {
          "name": "stdout",
          "output_type": "stream",
          "text": [
            " [ epoch : 008 ]  train_loss : 0.686, train_score : 0.809, val_loss : 0.519, val_score : 0.849, max_val_score : 0.868 \n"
          ]
        },
        {
          "name": "stderr",
          "output_type": "stream",
          "text": [
            "100%|██████████| 471/471 [02:04<00:00,  3.77it/s]\n",
            "100%|██████████| 53/53 [00:08<00:00,  6.39it/s]\n"
          ]
        },
        {
          "name": "stdout",
          "output_type": "stream",
          "text": [
            " [ epoch : 009 ]  train_loss : 0.694, train_score : 0.810, val_loss : 0.478, val_score : 0.864, max_val_score : 0.868 \n"
          ]
        },
        {
          "name": "stderr",
          "output_type": "stream",
          "text": [
            "100%|██████████| 471/471 [02:06<00:00,  3.72it/s]\n",
            "100%|██████████| 53/53 [00:07<00:00,  7.47it/s]\n"
          ]
        },
        {
          "name": "stdout",
          "output_type": "stream",
          "text": [
            "detected new best model, model save....\n",
            " [ epoch : 010 ]  train_loss : 0.587, train_score : 0.858, val_loss : 0.441, val_score : 0.869, max_val_score : 0.869 \n"
          ]
        },
        {
          "name": "stderr",
          "output_type": "stream",
          "text": [
            "100%|██████████| 471/471 [02:06<00:00,  3.72it/s]\n",
            "100%|██████████| 53/53 [00:09<00:00,  5.83it/s]\n"
          ]
        },
        {
          "name": "stdout",
          "output_type": "stream",
          "text": [
            " [ epoch : 011 ]  train_loss : 0.619, train_score : 0.831, val_loss : 0.542, val_score : 0.854, max_val_score : 0.869 \n"
          ]
        },
        {
          "name": "stderr",
          "output_type": "stream",
          "text": [
            "100%|██████████| 471/471 [02:07<00:00,  3.68it/s]\n",
            "100%|██████████| 53/53 [00:07<00:00,  7.46it/s]\n"
          ]
        },
        {
          "name": "stdout",
          "output_type": "stream",
          "text": [
            " [ epoch : 012 ]  train_loss : 0.599, train_score : 0.844, val_loss : 0.502, val_score : 0.867, max_val_score : 0.869 \n"
          ]
        },
        {
          "name": "stderr",
          "output_type": "stream",
          "text": [
            "100%|██████████| 471/471 [02:07<00:00,  3.68it/s]\n",
            "100%|██████████| 53/53 [00:09<00:00,  5.76it/s]\n"
          ]
        },
        {
          "name": "stdout",
          "output_type": "stream",
          "text": [
            "detected new best model, model save....\n",
            " [ epoch : 013 ]  train_loss : 0.567, train_score : 0.848, val_loss : 0.501, val_score : 0.870, max_val_score : 0.870 \n"
          ]
        },
        {
          "name": "stderr",
          "output_type": "stream",
          "text": [
            "100%|██████████| 471/471 [02:09<00:00,  3.65it/s]\n",
            "100%|██████████| 53/53 [00:07<00:00,  7.47it/s]\n"
          ]
        },
        {
          "name": "stdout",
          "output_type": "stream",
          "text": [
            " [ epoch : 014 ]  train_loss : 0.586, train_score : 0.831, val_loss : 0.508, val_score : 0.860, max_val_score : 0.870 \n"
          ]
        },
        {
          "name": "stderr",
          "output_type": "stream",
          "text": [
            "100%|██████████| 471/471 [02:07<00:00,  3.68it/s]\n",
            "100%|██████████| 53/53 [00:09<00:00,  5.87it/s]\n"
          ]
        },
        {
          "name": "stdout",
          "output_type": "stream",
          "text": [
            "detected new best model, model save....\n",
            " [ epoch : 015 ]  train_loss : 0.539, train_score : 0.864, val_loss : 0.441, val_score : 0.879, max_val_score : 0.879 \n"
          ]
        },
        {
          "name": "stderr",
          "output_type": "stream",
          "text": [
            "100%|██████████| 471/471 [02:06<00:00,  3.72it/s]\n",
            "100%|██████████| 53/53 [00:07<00:00,  7.43it/s]\n"
          ]
        },
        {
          "name": "stdout",
          "output_type": "stream",
          "text": [
            " [ epoch : 016 ]  train_loss : 0.550, train_score : 0.850, val_loss : 0.432, val_score : 0.869, max_val_score : 0.879 \n"
          ]
        },
        {
          "name": "stderr",
          "output_type": "stream",
          "text": [
            "100%|██████████| 471/471 [02:08<00:00,  3.67it/s]\n",
            "100%|██████████| 53/53 [00:09<00:00,  5.87it/s]\n"
          ]
        },
        {
          "name": "stdout",
          "output_type": "stream",
          "text": [
            " [ epoch : 017 ]  train_loss : 0.527, train_score : 0.859, val_loss : 0.505, val_score : 0.856, max_val_score : 0.879 \n"
          ]
        },
        {
          "name": "stderr",
          "output_type": "stream",
          "text": [
            "100%|██████████| 471/471 [02:06<00:00,  3.73it/s]\n",
            "100%|██████████| 53/53 [00:07<00:00,  7.11it/s]\n"
          ]
        },
        {
          "name": "stdout",
          "output_type": "stream",
          "text": [
            " [ epoch : 018 ]  train_loss : 0.545, train_score : 0.847, val_loss : 0.490, val_score : 0.875, max_val_score : 0.879 \n"
          ]
        },
        {
          "name": "stderr",
          "output_type": "stream",
          "text": [
            "100%|██████████| 471/471 [02:07<00:00,  3.70it/s]\n",
            "100%|██████████| 53/53 [00:08<00:00,  5.98it/s]\n"
          ]
        },
        {
          "name": "stdout",
          "output_type": "stream",
          "text": [
            " [ epoch : 019 ]  train_loss : 0.546, train_score : 0.854, val_loss : 0.486, val_score : 0.868, max_val_score : 0.879 \n"
          ]
        },
        {
          "name": "stderr",
          "output_type": "stream",
          "text": [
            "100%|██████████| 471/471 [02:05<00:00,  3.74it/s]\n",
            "100%|██████████| 53/53 [00:08<00:00,  6.60it/s]\n"
          ]
        },
        {
          "name": "stdout",
          "output_type": "stream",
          "text": [
            " [ epoch : 020 ]  train_loss : 0.565, train_score : 0.845, val_loss : 0.450, val_score : 0.860, max_val_score : 0.879 \n"
          ]
        },
        {
          "name": "stderr",
          "output_type": "stream",
          "text": [
            "100%|██████████| 471/471 [02:07<00:00,  3.70it/s]\n",
            "100%|██████████| 53/53 [00:07<00:00,  7.04it/s]\n"
          ]
        },
        {
          "name": "stdout",
          "output_type": "stream",
          "text": [
            " [ epoch : 021 ]  train_loss : 0.536, train_score : 0.861, val_loss : 0.530, val_score : 0.858, max_val_score : 0.879 \n"
          ]
        },
        {
          "name": "stderr",
          "output_type": "stream",
          "text": [
            "100%|██████████| 471/471 [02:06<00:00,  3.71it/s]\n",
            "100%|██████████| 53/53 [00:09<00:00,  5.85it/s]\n"
          ]
        },
        {
          "name": "stdout",
          "output_type": "stream",
          "text": [
            " [ epoch : 022 ]  train_loss : 0.550, train_score : 0.852, val_loss : 0.474, val_score : 0.875, max_val_score : 0.879 \n"
          ]
        },
        {
          "name": "stderr",
          "output_type": "stream",
          "text": [
            "100%|██████████| 471/471 [02:07<00:00,  3.70it/s]\n",
            "100%|██████████| 53/53 [00:07<00:00,  7.46it/s]\n"
          ]
        },
        {
          "name": "stdout",
          "output_type": "stream",
          "text": [
            " [ epoch : 023 ]  train_loss : 0.529, train_score : 0.854, val_loss : 0.497, val_score : 0.875, max_val_score : 0.879 \n"
          ]
        },
        {
          "name": "stderr",
          "output_type": "stream",
          "text": [
            "100%|██████████| 471/471 [02:07<00:00,  3.69it/s]\n",
            "100%|██████████| 53/53 [00:08<00:00,  5.89it/s]\n"
          ]
        },
        {
          "name": "stdout",
          "output_type": "stream",
          "text": [
            " [ epoch : 024 ]  train_loss : 0.534, train_score : 0.862, val_loss : 0.478, val_score : 0.870, max_val_score : 0.879 \n"
          ]
        },
        {
          "name": "stderr",
          "output_type": "stream",
          "text": [
            "100%|██████████| 471/471 [02:06<00:00,  3.71it/s]\n",
            "100%|██████████| 53/53 [00:06<00:00,  7.64it/s]\n"
          ]
        },
        {
          "name": "stdout",
          "output_type": "stream",
          "text": [
            " [ epoch : 025 ]  train_loss : 0.574, train_score : 0.847, val_loss : 0.457, val_score : 0.873, max_val_score : 0.879 \n"
          ]
        },
        {
          "name": "stderr",
          "output_type": "stream",
          "text": [
            "100%|██████████| 471/471 [02:06<00:00,  3.71it/s]\n",
            "100%|██████████| 53/53 [00:08<00:00,  5.95it/s]\n"
          ]
        },
        {
          "name": "stdout",
          "output_type": "stream",
          "text": [
            " [ epoch : 026 ]  train_loss : 0.502, train_score : 0.871, val_loss : 0.543, val_score : 0.846, max_val_score : 0.879 \n"
          ]
        },
        {
          "name": "stderr",
          "output_type": "stream",
          "text": [
            "100%|██████████| 471/471 [02:05<00:00,  3.75it/s]\n",
            "100%|██████████| 53/53 [00:08<00:00,  6.27it/s]\n"
          ]
        },
        {
          "name": "stdout",
          "output_type": "stream",
          "text": [
            "detected new best model, model save....\n",
            " [ epoch : 027 ]  train_loss : 0.516, train_score : 0.876, val_loss : 0.419, val_score : 0.882, max_val_score : 0.882 \n"
          ]
        },
        {
          "name": "stderr",
          "output_type": "stream",
          "text": [
            "100%|██████████| 471/471 [02:06<00:00,  3.72it/s]\n",
            "100%|██████████| 53/53 [00:08<00:00,  6.61it/s]\n"
          ]
        },
        {
          "name": "stdout",
          "output_type": "stream",
          "text": [
            " [ epoch : 028 ]  train_loss : 0.479, train_score : 0.888, val_loss : 0.509, val_score : 0.873, max_val_score : 0.882 \n"
          ]
        },
        {
          "name": "stderr",
          "output_type": "stream",
          "text": [
            "100%|██████████| 471/471 [02:05<00:00,  3.74it/s]\n",
            "100%|██████████| 53/53 [00:08<00:00,  6.21it/s]\n"
          ]
        },
        {
          "name": "stdout",
          "output_type": "stream",
          "text": [
            " [ epoch : 029 ]  train_loss : 0.518, train_score : 0.867, val_loss : 0.484, val_score : 0.853, max_val_score : 0.882 \n"
          ]
        },
        {
          "name": "stderr",
          "output_type": "stream",
          "text": [
            "100%|██████████| 471/471 [02:06<00:00,  3.72it/s]\n",
            "100%|██████████| 53/53 [00:07<00:00,  7.54it/s]\n"
          ]
        },
        {
          "name": "stdout",
          "output_type": "stream",
          "text": [
            " [ epoch : 030 ]  train_loss : 0.466, train_score : 0.872, val_loss : 0.526, val_score : 0.856, max_val_score : 0.882 \n"
          ]
        },
        {
          "name": "stderr",
          "output_type": "stream",
          "text": [
            "100%|██████████| 471/471 [02:06<00:00,  3.71it/s]\n",
            "100%|██████████| 53/53 [00:08<00:00,  5.91it/s]\n"
          ]
        },
        {
          "name": "stdout",
          "output_type": "stream",
          "text": [
            " [ epoch : 031 ]  train_loss : 0.516, train_score : 0.871, val_loss : 0.519, val_score : 0.868, max_val_score : 0.882 \n"
          ]
        },
        {
          "name": "stderr",
          "output_type": "stream",
          "text": [
            "100%|██████████| 471/471 [02:06<00:00,  3.73it/s]\n",
            "100%|██████████| 53/53 [00:07<00:00,  7.55it/s]\n"
          ]
        },
        {
          "name": "stdout",
          "output_type": "stream",
          "text": [
            " [ epoch : 032 ]  train_loss : 0.503, train_score : 0.875, val_loss : 0.467, val_score : 0.880, max_val_score : 0.882 \n"
          ]
        },
        {
          "name": "stderr",
          "output_type": "stream",
          "text": [
            "100%|██████████| 471/471 [02:06<00:00,  3.72it/s]\n",
            "100%|██████████| 53/53 [00:08<00:00,  5.90it/s]\n"
          ]
        },
        {
          "name": "stdout",
          "output_type": "stream",
          "text": [
            " [ epoch : 033 ]  train_loss : 0.534, train_score : 0.873, val_loss : 0.487, val_score : 0.878, max_val_score : 0.882 \n"
          ]
        },
        {
          "name": "stderr",
          "output_type": "stream",
          "text": [
            "100%|██████████| 471/471 [02:05<00:00,  3.74it/s]\n",
            "100%|██████████| 53/53 [00:07<00:00,  6.73it/s]\n"
          ]
        },
        {
          "name": "stdout",
          "output_type": "stream",
          "text": [
            " [ epoch : 034 ]  train_loss : 0.492, train_score : 0.876, val_loss : 0.500, val_score : 0.877, max_val_score : 0.882 \n"
          ]
        },
        {
          "name": "stderr",
          "output_type": "stream",
          "text": [
            "100%|██████████| 471/471 [02:06<00:00,  3.72it/s]\n",
            "100%|██████████| 53/53 [00:07<00:00,  7.40it/s]\n"
          ]
        },
        {
          "name": "stdout",
          "output_type": "stream",
          "text": [
            " [ epoch : 035 ]  train_loss : 0.506, train_score : 0.867, val_loss : 0.502, val_score : 0.854, max_val_score : 0.882 \n"
          ]
        },
        {
          "name": "stderr",
          "output_type": "stream",
          "text": [
            "100%|██████████| 471/471 [02:06<00:00,  3.72it/s]\n",
            "100%|██████████| 53/53 [00:09<00:00,  5.83it/s]\n"
          ]
        },
        {
          "name": "stdout",
          "output_type": "stream",
          "text": [
            " [ epoch : 036 ]  train_loss : 0.533, train_score : 0.873, val_loss : 0.533, val_score : 0.868, max_val_score : 0.882 \n"
          ]
        },
        {
          "name": "stderr",
          "output_type": "stream",
          "text": [
            "100%|██████████| 471/471 [02:06<00:00,  3.71it/s]\n",
            "100%|██████████| 53/53 [00:06<00:00,  7.58it/s]\n"
          ]
        },
        {
          "name": "stdout",
          "output_type": "stream",
          "text": [
            " [ epoch : 037 ]  train_loss : 0.556, train_score : 0.854, val_loss : 0.503, val_score : 0.867, max_val_score : 0.882 \n"
          ]
        },
        {
          "name": "stderr",
          "output_type": "stream",
          "text": [
            "100%|██████████| 471/471 [02:06<00:00,  3.71it/s]\n",
            "100%|██████████| 53/53 [00:08<00:00,  5.91it/s]\n"
          ]
        },
        {
          "name": "stdout",
          "output_type": "stream",
          "text": [
            " [ epoch : 038 ]  train_loss : 0.545, train_score : 0.862, val_loss : 0.485, val_score : 0.848, max_val_score : 0.882 \n"
          ]
        },
        {
          "name": "stderr",
          "output_type": "stream",
          "text": [
            "100%|██████████| 471/471 [02:06<00:00,  3.71it/s]\n",
            "100%|██████████| 53/53 [00:07<00:00,  7.51it/s]\n"
          ]
        },
        {
          "name": "stdout",
          "output_type": "stream",
          "text": [
            " [ epoch : 039 ]  train_loss : 0.499, train_score : 0.873, val_loss : 0.465, val_score : 0.868, max_val_score : 0.882 \n"
          ]
        },
        {
          "name": "stderr",
          "output_type": "stream",
          "text": [
            "100%|██████████| 471/471 [02:07<00:00,  3.70it/s]\n",
            "100%|██████████| 53/53 [00:09<00:00,  5.88it/s]\n"
          ]
        },
        {
          "name": "stdout",
          "output_type": "stream",
          "text": [
            " [ epoch : 040 ]  train_loss : 0.534, train_score : 0.861, val_loss : 0.499, val_score : 0.865, max_val_score : 0.882 \n"
          ]
        },
        {
          "name": "stderr",
          "output_type": "stream",
          "text": [
            "100%|██████████| 471/471 [02:05<00:00,  3.75it/s]\n",
            "100%|██████████| 53/53 [00:07<00:00,  6.78it/s]\n"
          ]
        },
        {
          "name": "stdout",
          "output_type": "stream",
          "text": [
            " [ epoch : 041 ]  train_loss : 0.547, train_score : 0.860, val_loss : 0.470, val_score : 0.873, max_val_score : 0.882 \n"
          ]
        },
        {
          "name": "stderr",
          "output_type": "stream",
          "text": [
            "100%|██████████| 471/471 [02:06<00:00,  3.71it/s]\n",
            "100%|██████████| 53/53 [00:08<00:00,  6.62it/s]\n"
          ]
        },
        {
          "name": "stdout",
          "output_type": "stream",
          "text": [
            " [ epoch : 042 ]  train_loss : 0.557, train_score : 0.846, val_loss : 0.513, val_score : 0.861, max_val_score : 0.882 \n",
            "[Model 003 training start]\n"
          ]
        },
        {
          "name": "stderr",
          "output_type": "stream",
          "text": [
            "100%|██████████| 471/471 [02:05<00:00,  3.74it/s]\n",
            "100%|██████████| 53/53 [00:08<00:00,  5.89it/s]\n"
          ]
        },
        {
          "name": "stdout",
          "output_type": "stream",
          "text": [
            "detected new best model, model save....\n",
            " [ epoch : 001 ]  train_loss : 1.973, train_score : 0.377, val_loss : 1.154, val_score : 0.607, max_val_score : 0.607 \n"
          ]
        },
        {
          "name": "stderr",
          "output_type": "stream",
          "text": [
            "100%|██████████| 471/471 [02:06<00:00,  3.71it/s]\n",
            "100%|██████████| 53/53 [00:07<00:00,  7.33it/s]\n"
          ]
        },
        {
          "name": "stdout",
          "output_type": "stream",
          "text": [
            "detected new best model, model save....\n",
            " [ epoch : 002 ]  train_loss : 1.404, train_score : 0.571, val_loss : 0.943, val_score : 0.721, max_val_score : 0.721 \n"
          ]
        },
        {
          "name": "stderr",
          "output_type": "stream",
          "text": [
            "100%|██████████| 471/471 [02:06<00:00,  3.72it/s]\n",
            "100%|██████████| 53/53 [00:08<00:00,  5.90it/s]\n"
          ]
        },
        {
          "name": "stdout",
          "output_type": "stream",
          "text": [
            "detected new best model, model save....\n",
            " [ epoch : 003 ]  train_loss : 1.171, train_score : 0.652, val_loss : 0.718, val_score : 0.791, max_val_score : 0.791 \n"
          ]
        },
        {
          "name": "stderr",
          "output_type": "stream",
          "text": [
            "100%|██████████| 471/471 [02:06<00:00,  3.72it/s]\n",
            "100%|██████████| 53/53 [00:07<00:00,  7.51it/s]\n"
          ]
        },
        {
          "name": "stdout",
          "output_type": "stream",
          "text": [
            "detected new best model, model save....\n",
            " [ epoch : 004 ]  train_loss : 0.983, train_score : 0.716, val_loss : 0.664, val_score : 0.808, max_val_score : 0.808 \n"
          ]
        },
        {
          "name": "stderr",
          "output_type": "stream",
          "text": [
            "100%|██████████| 471/471 [02:06<00:00,  3.71it/s]\n",
            "100%|██████████| 53/53 [00:09<00:00,  5.83it/s]\n"
          ]
        },
        {
          "name": "stdout",
          "output_type": "stream",
          "text": [
            "detected new best model, model save....\n",
            " [ epoch : 005 ]  train_loss : 0.877, train_score : 0.756, val_loss : 0.589, val_score : 0.824, max_val_score : 0.824 \n"
          ]
        },
        {
          "name": "stderr",
          "output_type": "stream",
          "text": [
            "100%|██████████| 471/471 [02:08<00:00,  3.66it/s]\n",
            "100%|██████████| 53/53 [00:07<00:00,  6.98it/s]\n"
          ]
        },
        {
          "name": "stdout",
          "output_type": "stream",
          "text": [
            "detected new best model, model save....\n",
            " [ epoch : 006 ]  train_loss : 0.770, train_score : 0.787, val_loss : 0.540, val_score : 0.839, max_val_score : 0.839 \n"
          ]
        },
        {
          "name": "stderr",
          "output_type": "stream",
          "text": [
            "100%|██████████| 471/471 [02:08<00:00,  3.65it/s]\n",
            "100%|██████████| 53/53 [00:08<00:00,  6.45it/s]\n"
          ]
        },
        {
          "name": "stdout",
          "output_type": "stream",
          "text": [
            "detected new best model, model save....\n",
            " [ epoch : 007 ]  train_loss : 0.727, train_score : 0.795, val_loss : 0.576, val_score : 0.853, max_val_score : 0.853 \n"
          ]
        },
        {
          "name": "stderr",
          "output_type": "stream",
          "text": [
            "100%|██████████| 471/471 [02:08<00:00,  3.67it/s]\n",
            "100%|██████████| 53/53 [00:08<00:00,  6.02it/s]\n"
          ]
        },
        {
          "name": "stdout",
          "output_type": "stream",
          "text": [
            "detected new best model, model save....\n",
            " [ epoch : 008 ]  train_loss : 0.682, train_score : 0.818, val_loss : 0.477, val_score : 0.865, max_val_score : 0.865 \n"
          ]
        },
        {
          "name": "stderr",
          "output_type": "stream",
          "text": [
            "100%|██████████| 471/471 [02:05<00:00,  3.75it/s]\n",
            "100%|██████████| 53/53 [00:08<00:00,  6.37it/s]\n"
          ]
        },
        {
          "name": "stdout",
          "output_type": "stream",
          "text": [
            " [ epoch : 009 ]  train_loss : 0.635, train_score : 0.837, val_loss : 0.483, val_score : 0.852, max_val_score : 0.865 \n"
          ]
        },
        {
          "name": "stderr",
          "output_type": "stream",
          "text": [
            "100%|██████████| 471/471 [02:08<00:00,  3.67it/s]\n",
            "100%|██████████| 53/53 [00:08<00:00,  6.05it/s]\n"
          ]
        },
        {
          "name": "stdout",
          "output_type": "stream",
          "text": [
            "detected new best model, model save....\n",
            " [ epoch : 010 ]  train_loss : 0.661, train_score : 0.826, val_loss : 0.482, val_score : 0.878, max_val_score : 0.878 \n"
          ]
        },
        {
          "name": "stderr",
          "output_type": "stream",
          "text": [
            "100%|██████████| 471/471 [02:06<00:00,  3.73it/s]\n",
            "100%|██████████| 53/53 [00:07<00:00,  6.91it/s]\n"
          ]
        },
        {
          "name": "stdout",
          "output_type": "stream",
          "text": [
            " [ epoch : 011 ]  train_loss : 0.598, train_score : 0.844, val_loss : 0.484, val_score : 0.876, max_val_score : 0.878 \n"
          ]
        },
        {
          "name": "stderr",
          "output_type": "stream",
          "text": [
            "100%|██████████| 471/471 [02:07<00:00,  3.69it/s]\n",
            "100%|██████████| 53/53 [00:08<00:00,  6.39it/s]\n"
          ]
        },
        {
          "name": "stdout",
          "output_type": "stream",
          "text": [
            " [ epoch : 012 ]  train_loss : 0.606, train_score : 0.845, val_loss : 0.490, val_score : 0.866, max_val_score : 0.878 \n"
          ]
        },
        {
          "name": "stderr",
          "output_type": "stream",
          "text": [
            "100%|██████████| 471/471 [02:06<00:00,  3.72it/s]\n",
            "100%|██████████| 53/53 [00:09<00:00,  5.87it/s]\n"
          ]
        },
        {
          "name": "stdout",
          "output_type": "stream",
          "text": [
            " [ epoch : 013 ]  train_loss : 0.587, train_score : 0.850, val_loss : 0.452, val_score : 0.877, max_val_score : 0.878 \n"
          ]
        },
        {
          "name": "stderr",
          "output_type": "stream",
          "text": [
            "100%|██████████| 471/471 [02:07<00:00,  3.69it/s]\n",
            "100%|██████████| 53/53 [00:07<00:00,  7.43it/s]\n"
          ]
        },
        {
          "name": "stdout",
          "output_type": "stream",
          "text": [
            " [ epoch : 014 ]  train_loss : 0.566, train_score : 0.843, val_loss : 0.471, val_score : 0.861, max_val_score : 0.878 \n"
          ]
        },
        {
          "name": "stderr",
          "output_type": "stream",
          "text": [
            "100%|██████████| 471/471 [02:07<00:00,  3.70it/s]\n",
            "100%|██████████| 53/53 [00:09<00:00,  5.79it/s]\n"
          ]
        },
        {
          "name": "stdout",
          "output_type": "stream",
          "text": [
            "detected new best model, model save....\n",
            " [ epoch : 015 ]  train_loss : 0.558, train_score : 0.847, val_loss : 0.456, val_score : 0.881, max_val_score : 0.881 \n"
          ]
        },
        {
          "name": "stderr",
          "output_type": "stream",
          "text": [
            "100%|██████████| 471/471 [02:07<00:00,  3.70it/s]\n",
            "100%|██████████| 53/53 [00:07<00:00,  7.47it/s]\n"
          ]
        },
        {
          "name": "stdout",
          "output_type": "stream",
          "text": [
            "detected new best model, model save....\n",
            " [ epoch : 016 ]  train_loss : 0.557, train_score : 0.842, val_loss : 0.431, val_score : 0.884, max_val_score : 0.884 \n"
          ]
        },
        {
          "name": "stderr",
          "output_type": "stream",
          "text": [
            "100%|██████████| 471/471 [02:07<00:00,  3.70it/s]\n",
            "100%|██████████| 53/53 [00:09<00:00,  5.78it/s]\n"
          ]
        },
        {
          "name": "stdout",
          "output_type": "stream",
          "text": [
            "detected new best model, model save....\n",
            " [ epoch : 017 ]  train_loss : 0.541, train_score : 0.871, val_loss : 0.455, val_score : 0.892, max_val_score : 0.892 \n"
          ]
        },
        {
          "name": "stderr",
          "output_type": "stream",
          "text": [
            "100%|██████████| 471/471 [02:08<00:00,  3.66it/s]\n",
            "100%|██████████| 53/53 [00:07<00:00,  7.35it/s]\n"
          ]
        },
        {
          "name": "stdout",
          "output_type": "stream",
          "text": [
            " [ epoch : 018 ]  train_loss : 0.556, train_score : 0.856, val_loss : 0.497, val_score : 0.864, max_val_score : 0.892 \n"
          ]
        },
        {
          "name": "stderr",
          "output_type": "stream",
          "text": [
            "100%|██████████| 471/471 [02:07<00:00,  3.69it/s]\n",
            "100%|██████████| 53/53 [00:09<00:00,  5.86it/s]\n"
          ]
        },
        {
          "name": "stdout",
          "output_type": "stream",
          "text": [
            " [ epoch : 019 ]  train_loss : 0.526, train_score : 0.867, val_loss : 0.465, val_score : 0.876, max_val_score : 0.892 \n"
          ]
        },
        {
          "name": "stderr",
          "output_type": "stream",
          "text": [
            "100%|██████████| 471/471 [02:08<00:00,  3.67it/s]\n",
            "100%|██████████| 53/53 [00:07<00:00,  7.31it/s]\n"
          ]
        },
        {
          "name": "stdout",
          "output_type": "stream",
          "text": [
            " [ epoch : 020 ]  train_loss : 0.555, train_score : 0.850, val_loss : 0.447, val_score : 0.867, max_val_score : 0.892 \n"
          ]
        },
        {
          "name": "stderr",
          "output_type": "stream",
          "text": [
            "100%|██████████| 471/471 [02:09<00:00,  3.64it/s]\n",
            "100%|██████████| 53/53 [00:09<00:00,  5.71it/s]\n"
          ]
        },
        {
          "name": "stdout",
          "output_type": "stream",
          "text": [
            " [ epoch : 021 ]  train_loss : 0.534, train_score : 0.865, val_loss : 0.450, val_score : 0.866, max_val_score : 0.892 \n"
          ]
        },
        {
          "name": "stderr",
          "output_type": "stream",
          "text": [
            "100%|██████████| 471/471 [02:07<00:00,  3.69it/s]\n",
            "100%|██████████| 53/53 [00:06<00:00,  7.64it/s]\n"
          ]
        },
        {
          "name": "stdout",
          "output_type": "stream",
          "text": [
            "detected new best model, model save....\n",
            " [ epoch : 022 ]  train_loss : 0.531, train_score : 0.868, val_loss : 0.399, val_score : 0.897, max_val_score : 0.897 \n"
          ]
        },
        {
          "name": "stderr",
          "output_type": "stream",
          "text": [
            "100%|██████████| 471/471 [02:10<00:00,  3.62it/s]\n",
            "100%|██████████| 53/53 [00:08<00:00,  6.29it/s]\n"
          ]
        },
        {
          "name": "stdout",
          "output_type": "stream",
          "text": [
            " [ epoch : 023 ]  train_loss : 0.569, train_score : 0.849, val_loss : 0.435, val_score : 0.883, max_val_score : 0.897 \n"
          ]
        },
        {
          "name": "stderr",
          "output_type": "stream",
          "text": [
            "100%|██████████| 471/471 [02:09<00:00,  3.64it/s]\n",
            "100%|██████████| 53/53 [00:09<00:00,  5.79it/s]\n"
          ]
        },
        {
          "name": "stdout",
          "output_type": "stream",
          "text": [
            " [ epoch : 024 ]  train_loss : 0.526, train_score : 0.867, val_loss : 0.406, val_score : 0.880, max_val_score : 0.897 \n"
          ]
        },
        {
          "name": "stderr",
          "output_type": "stream",
          "text": [
            "100%|██████████| 471/471 [02:06<00:00,  3.73it/s]\n",
            "100%|██████████| 53/53 [00:08<00:00,  6.16it/s]\n"
          ]
        },
        {
          "name": "stdout",
          "output_type": "stream",
          "text": [
            " [ epoch : 025 ]  train_loss : 0.521, train_score : 0.865, val_loss : 0.452, val_score : 0.867, max_val_score : 0.897 \n"
          ]
        },
        {
          "name": "stderr",
          "output_type": "stream",
          "text": [
            "100%|██████████| 471/471 [02:09<00:00,  3.64it/s]\n",
            "100%|██████████| 53/53 [00:09<00:00,  5.82it/s]\n"
          ]
        },
        {
          "name": "stdout",
          "output_type": "stream",
          "text": [
            " [ epoch : 026 ]  train_loss : 0.544, train_score : 0.863, val_loss : 0.448, val_score : 0.890, max_val_score : 0.897 \n"
          ]
        },
        {
          "name": "stderr",
          "output_type": "stream",
          "text": [
            "100%|██████████| 471/471 [02:09<00:00,  3.63it/s]\n",
            "100%|██████████| 53/53 [00:07<00:00,  7.35it/s]\n"
          ]
        },
        {
          "name": "stdout",
          "output_type": "stream",
          "text": [
            " [ epoch : 027 ]  train_loss : 0.534, train_score : 0.868, val_loss : 0.400, val_score : 0.892, max_val_score : 0.897 \n"
          ]
        },
        {
          "name": "stderr",
          "output_type": "stream",
          "text": [
            "100%|██████████| 471/471 [02:09<00:00,  3.63it/s]\n",
            "100%|██████████| 53/53 [00:09<00:00,  5.65it/s]\n"
          ]
        },
        {
          "name": "stdout",
          "output_type": "stream",
          "text": [
            " [ epoch : 028 ]  train_loss : 0.566, train_score : 0.864, val_loss : 0.410, val_score : 0.888, max_val_score : 0.897 \n"
          ]
        },
        {
          "name": "stderr",
          "output_type": "stream",
          "text": [
            "100%|██████████| 471/471 [02:11<00:00,  3.59it/s]\n",
            "100%|██████████| 53/53 [00:08<00:00,  6.06it/s]\n"
          ]
        },
        {
          "name": "stdout",
          "output_type": "stream",
          "text": [
            "detected new best model, model save....\n",
            " [ epoch : 029 ]  train_loss : 0.553, train_score : 0.870, val_loss : 0.422, val_score : 0.897, max_val_score : 0.897 \n"
          ]
        },
        {
          "name": "stderr",
          "output_type": "stream",
          "text": [
            "100%|██████████| 471/471 [02:08<00:00,  3.67it/s]\n",
            "100%|██████████| 53/53 [00:07<00:00,  7.24it/s]\n"
          ]
        },
        {
          "name": "stdout",
          "output_type": "stream",
          "text": [
            " [ epoch : 030 ]  train_loss : 0.538, train_score : 0.863, val_loss : 0.431, val_score : 0.877, max_val_score : 0.897 \n"
          ]
        },
        {
          "name": "stderr",
          "output_type": "stream",
          "text": [
            "100%|██████████| 471/471 [02:07<00:00,  3.69it/s]\n",
            "100%|██████████| 53/53 [00:09<00:00,  5.80it/s]\n"
          ]
        },
        {
          "name": "stdout",
          "output_type": "stream",
          "text": [
            " [ epoch : 031 ]  train_loss : 0.539, train_score : 0.848, val_loss : 0.479, val_score : 0.865, max_val_score : 0.897 \n"
          ]
        },
        {
          "name": "stderr",
          "output_type": "stream",
          "text": [
            "100%|██████████| 471/471 [02:07<00:00,  3.71it/s]\n",
            "100%|██████████| 53/53 [00:07<00:00,  7.45it/s]\n"
          ]
        },
        {
          "name": "stdout",
          "output_type": "stream",
          "text": [
            " [ epoch : 032 ]  train_loss : 0.528, train_score : 0.862, val_loss : 0.419, val_score : 0.890, max_val_score : 0.897 \n"
          ]
        },
        {
          "name": "stderr",
          "output_type": "stream",
          "text": [
            "100%|██████████| 471/471 [02:07<00:00,  3.71it/s]\n",
            "100%|██████████| 53/53 [00:09<00:00,  5.88it/s]\n"
          ]
        },
        {
          "name": "stdout",
          "output_type": "stream",
          "text": [
            " [ epoch : 033 ]  train_loss : 0.554, train_score : 0.849, val_loss : 0.437, val_score : 0.865, max_val_score : 0.897 \n"
          ]
        },
        {
          "name": "stderr",
          "output_type": "stream",
          "text": [
            "100%|██████████| 471/471 [02:06<00:00,  3.73it/s]\n",
            "100%|██████████| 53/53 [00:07<00:00,  6.92it/s]\n"
          ]
        },
        {
          "name": "stdout",
          "output_type": "stream",
          "text": [
            " [ epoch : 034 ]  train_loss : 0.548, train_score : 0.869, val_loss : 0.457, val_score : 0.880, max_val_score : 0.897 \n"
          ]
        },
        {
          "name": "stderr",
          "output_type": "stream",
          "text": [
            "100%|██████████| 471/471 [02:06<00:00,  3.72it/s]\n",
            "100%|██████████| 53/53 [00:08<00:00,  6.26it/s]\n"
          ]
        },
        {
          "name": "stdout",
          "output_type": "stream",
          "text": [
            " [ epoch : 035 ]  train_loss : 0.531, train_score : 0.856, val_loss : 0.469, val_score : 0.860, max_val_score : 0.897 \n"
          ]
        },
        {
          "name": "stderr",
          "output_type": "stream",
          "text": [
            "100%|██████████| 471/471 [02:05<00:00,  3.76it/s]\n",
            "100%|██████████| 53/53 [00:08<00:00,  5.97it/s]\n"
          ]
        },
        {
          "name": "stdout",
          "output_type": "stream",
          "text": [
            " [ epoch : 036 ]  train_loss : 0.548, train_score : 0.860, val_loss : 0.442, val_score : 0.889, max_val_score : 0.897 \n"
          ]
        },
        {
          "name": "stderr",
          "output_type": "stream",
          "text": [
            "100%|██████████| 471/471 [02:06<00:00,  3.73it/s]\n",
            "100%|██████████| 53/53 [00:07<00:00,  7.54it/s]\n"
          ]
        },
        {
          "name": "stdout",
          "output_type": "stream",
          "text": [
            " [ epoch : 037 ]  train_loss : 0.577, train_score : 0.832, val_loss : 0.439, val_score : 0.880, max_val_score : 0.897 \n"
          ]
        },
        {
          "name": "stderr",
          "output_type": "stream",
          "text": [
            "100%|██████████| 471/471 [02:06<00:00,  3.73it/s]\n",
            "100%|██████████| 53/53 [00:08<00:00,  5.89it/s]\n"
          ]
        },
        {
          "name": "stdout",
          "output_type": "stream",
          "text": [
            " [ epoch : 038 ]  train_loss : 0.525, train_score : 0.868, val_loss : 0.417, val_score : 0.868, max_val_score : 0.897 \n"
          ]
        },
        {
          "name": "stderr",
          "output_type": "stream",
          "text": [
            "100%|██████████| 471/471 [02:07<00:00,  3.70it/s]\n",
            "100%|██████████| 53/53 [00:07<00:00,  7.44it/s]\n"
          ]
        },
        {
          "name": "stdout",
          "output_type": "stream",
          "text": [
            " [ epoch : 039 ]  train_loss : 0.535, train_score : 0.877, val_loss : 0.446, val_score : 0.880, max_val_score : 0.897 \n"
          ]
        },
        {
          "name": "stderr",
          "output_type": "stream",
          "text": [
            "100%|██████████| 471/471 [02:07<00:00,  3.70it/s]\n",
            "100%|██████████| 53/53 [00:09<00:00,  5.86it/s]\n"
          ]
        },
        {
          "name": "stdout",
          "output_type": "stream",
          "text": [
            " [ epoch : 040 ]  train_loss : 0.577, train_score : 0.855, val_loss : 0.417, val_score : 0.885, max_val_score : 0.897 \n"
          ]
        },
        {
          "name": "stderr",
          "output_type": "stream",
          "text": [
            "100%|██████████| 471/471 [02:05<00:00,  3.77it/s]\n",
            "100%|██████████| 53/53 [00:08<00:00,  6.52it/s]\n"
          ]
        },
        {
          "name": "stdout",
          "output_type": "stream",
          "text": [
            " [ epoch : 041 ]  train_loss : 0.531, train_score : 0.862, val_loss : 0.440, val_score : 0.882, max_val_score : 0.897 \n"
          ]
        },
        {
          "name": "stderr",
          "output_type": "stream",
          "text": [
            "100%|██████████| 471/471 [02:06<00:00,  3.73it/s]\n",
            "100%|██████████| 53/53 [00:07<00:00,  7.53it/s]\n"
          ]
        },
        {
          "name": "stdout",
          "output_type": "stream",
          "text": [
            " [ epoch : 042 ]  train_loss : 0.511, train_score : 0.864, val_loss : 0.490, val_score : 0.875, max_val_score : 0.897 \n"
          ]
        },
        {
          "name": "stderr",
          "output_type": "stream",
          "text": [
            "100%|██████████| 471/471 [02:06<00:00,  3.73it/s]\n",
            "100%|██████████| 53/53 [00:09<00:00,  5.89it/s]\n"
          ]
        },
        {
          "name": "stdout",
          "output_type": "stream",
          "text": [
            " [ epoch : 043 ]  train_loss : 0.509, train_score : 0.872, val_loss : 0.435, val_score : 0.884, max_val_score : 0.897 \n"
          ]
        },
        {
          "name": "stderr",
          "output_type": "stream",
          "text": [
            "100%|██████████| 471/471 [02:05<00:00,  3.75it/s]\n",
            "100%|██████████| 53/53 [00:07<00:00,  7.15it/s]"
          ]
        },
        {
          "name": "stdout",
          "output_type": "stream",
          "text": [
            " [ epoch : 044 ]  train_loss : 0.555, train_score : 0.854, val_loss : 0.427, val_score : 0.882, max_val_score : 0.897 \n"
          ]
        },
        {
          "name": "stderr",
          "output_type": "stream",
          "text": [
            "\n"
          ]
        }
      ],
      "source": [
        "model_num = ['v2_m','v2_m','v2_m']\n",
        "model_list = []\n",
        "for num in model_num:\n",
        "  model_list.append(get_torch_model(model_name=\"effinetv2\", model_num=num))\n",
        "\n",
        "ensemble = ENSEMBLE(\n",
        "    model_list=model_list,\n",
        "    dataloaders=dataloaders,\n",
        "    device=device,\n",
        "    cfg=cfg,\n",
        "\n",
        ")\n",
        "\n",
        "ensemble.train_all()"
      ]
    },
    {
      "attachments": {},
      "cell_type": "markdown",
      "metadata": {
        "id": "LiU_iGCUmxcm"
      },
      "source": [
        "#### 이미 학습한 가중치 파일들을 통해 직접 앙상블로만 결과도출 실험\n",
        "##### ensemble / trainer .py\n",
        "- make_pred_file\n",
        "- make_pred\n"
      ]
    },
    {
      "cell_type": "code",
      "execution_count": null,
      "metadata": {
        "colab": {
          "base_uri": "https://localhost:8080/"
        },
        "id": "ma6kO7TkaOhH",
        "outputId": "60deccc9-b0c4-4d4e-980e-6062ccbb492b"
      },
      "outputs": [
        {
          "name": "stderr",
          "output_type": "stream",
          "text": [
            "  0%|          | 0/99 [00:00<?, ?it/s]/content/Wallpaper_defect_classification/trainer/_trainer.py:193: UserWarning: Implicit dimension choice for softmax has been deprecated. Change the call to include dim=X as an argument.\n",
            "  pred = self.softmax_for_predict(self.model(imgs))\n",
            "100%|██████████| 99/99 [00:14<00:00,  6.88it/s]\n",
            "100%|██████████| 99/99 [00:14<00:00,  6.86it/s]\n",
            "100%|██████████| 99/99 [00:13<00:00,  7.11it/s]\n"
          ]
        }
      ],
      "source": [
        "ensemble.make_predict_file()"
      ]
    },
    {
      "cell_type": "code",
      "execution_count": null,
      "metadata": {
        "colab": {
          "base_uri": "https://localhost:8080/",
          "height": 17
        },
        "id": "w6UjaM4NldTp",
        "outputId": "3218dfba-e154-4ca2-b594-a7a4b2166be0"
      },
      "outputs": [
        {
          "data": {
            "application/javascript": "\n    async function download(id, filename, size) {\n      if (!google.colab.kernel.accessAllowed) {\n        return;\n      }\n      const div = document.createElement('div');\n      const label = document.createElement('label');\n      label.textContent = `Downloading \"${filename}\": `;\n      div.appendChild(label);\n      const progress = document.createElement('progress');\n      progress.max = size;\n      div.appendChild(progress);\n      document.body.appendChild(div);\n\n      const buffers = [];\n      let downloaded = 0;\n\n      const channel = await google.colab.kernel.comms.open(id);\n      // Send a message to notify the kernel that we're ready.\n      channel.send({})\n\n      for await (const message of channel.messages) {\n        // Send a message to notify the kernel that we're ready.\n        channel.send({})\n        if (message.buffers) {\n          for (const buffer of message.buffers) {\n            buffers.push(buffer);\n            downloaded += buffer.byteLength;\n            progress.value = downloaded;\n          }\n        }\n      }\n      const blob = new Blob(buffers, {type: 'application/binary'});\n      const a = document.createElement('a');\n      a.href = window.URL.createObjectURL(blob);\n      a.download = filename;\n      div.appendChild(a);\n      a.click();\n      div.remove();\n    }\n  ",
            "text/plain": [
              "<IPython.core.display.Javascript object>"
            ]
          },
          "metadata": {},
          "output_type": "display_data"
        },
        {
          "data": {
            "application/javascript": "download(\"download_68677bf0-9c57-40a2-a719-c70adb632bca\", \"submission.csv\", 13383)",
            "text/plain": [
              "<IPython.core.display.Javascript object>"
            ]
          },
          "metadata": {},
          "output_type": "display_data"
        }
      ],
      "source": [
        "from google.colab import files\n",
        "\n",
        "files.download(cfg.OUTPUT_PATH)"
      ]
    }
  ],
  "metadata": {
    "accelerator": "GPU",
    "colab": {
      "gpuType": "T4",
      "machine_shape": "hm",
      "provenance": []
    },
    "gpuClass": "standard",
    "kernelspec": {
      "display_name": "Python 3",
      "name": "python3"
    },
    "language_info": {
      "name": "python"
    }
  },
  "nbformat": 4,
  "nbformat_minor": 0
}
